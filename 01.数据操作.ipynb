{
 "cells": [
  {
   "cell_type": "markdown",
   "id": "da552e88-3f8a-4431-8ce7-873a1d95e89c",
   "metadata": {},
   "source": [
    "# 数据操作"
   ]
  },
  {
   "cell_type": "markdown",
   "id": "b36bf080-31b3-4e92-878f-46c3dfc26807",
   "metadata": {},
   "source": [
    "## 导入pytorch工具，注意敲的是torch"
   ]
  },
  {
   "cell_type": "code",
   "execution_count": 2,
   "id": "adaf4c95-10bf-4357-a38b-65219beb52aa",
   "metadata": {},
   "outputs": [],
   "source": [
    "import torch"
   ]
  },
  {
   "cell_type": "markdown",
   "id": "52108808",
   "metadata": {},
   "source": [
    "## 张量(Tensor)"
   ]
  },
  {
   "cell_type": "markdown",
   "id": "5c12ac2d",
   "metadata": {},
   "source": [
    "张量可以看作是一个多维数组。标量可以看作是0维张量，向量可以看作1维张量，矩阵可以看作是二维张量。Tensor和NumPy的多维数组非常类似.\n",
    "https://zhuanlan.zhihu.com/p/140260245  "
   ]
  },
  {
   "cell_type": "code",
   "execution_count": 4,
   "id": "09ad9076",
   "metadata": {},
   "outputs": [
    {
     "data": {
      "text/plain": [
       "tensor([ 0,  1,  2,  3,  4,  5,  6,  7,  8,  9, 10, 11])"
      ]
     },
     "execution_count": 4,
     "metadata": {},
     "output_type": "execute_result"
    }
   ],
   "source": [
    "x=torch.arange(12)#生成一维张量\n",
    "x"
   ]
  },
  {
   "cell_type": "markdown",
   "id": "7daf3b42",
   "metadata": {},
   "source": [
    "### 访问张量形状"
   ]
  },
  {
   "cell_type": "code",
   "execution_count": 6,
   "id": "710cebf2",
   "metadata": {},
   "outputs": [
    {
     "data": {
      "text/plain": [
       "torch.Size([12])"
      ]
     },
     "execution_count": 6,
     "metadata": {},
     "output_type": "execute_result"
    }
   ],
   "source": [
    "x.shape"
   ]
  },
  {
   "cell_type": "markdown",
   "id": "c57d0f6d",
   "metadata": {},
   "source": [
    "### 访问张量中元素个数"
   ]
  },
  {
   "cell_type": "code",
   "execution_count": 9,
   "id": "2144b11f",
   "metadata": {},
   "outputs": [
    {
     "data": {
      "text/plain": [
       "12"
      ]
     },
     "execution_count": 9,
     "metadata": {},
     "output_type": "execute_result"
    }
   ],
   "source": [
    "#注意括号\n",
    "x.numel()"
   ]
  },
  {
   "cell_type": "markdown",
   "id": "3b3fde7d",
   "metadata": {},
   "source": [
    "### 改变张量形状，不变元素数量和数值"
   ]
  },
  {
   "cell_type": "code",
   "execution_count": 10,
   "id": "4e08bae8",
   "metadata": {},
   "outputs": [
    {
     "data": {
      "text/plain": [
       "tensor([[ 0,  1,  2,  3],\n",
       "        [ 4,  5,  6,  7],\n",
       "        [ 8,  9, 10, 11]])"
      ]
     },
     "execution_count": 10,
     "metadata": {},
     "output_type": "execute_result"
    }
   ],
   "source": [
    "x=x.reshape(3,4)\n",
    "x"
   ]
  },
  {
   "cell_type": "markdown",
   "id": "34eab947",
   "metadata": {},
   "source": [
    "### 设置数值为全0，1或其它常量或从特定分布中随机采样的数字"
   ]
  },
  {
   "cell_type": "code",
   "execution_count": 11,
   "id": "3a086be5",
   "metadata": {},
   "outputs": [
    {
     "data": {
      "text/plain": [
       "tensor([[[0., 0., 0., 0.],\n",
       "         [0., 0., 0., 0.],\n",
       "         [0., 0., 0., 0.]],\n",
       "\n",
       "        [[0., 0., 0., 0.],\n",
       "         [0., 0., 0., 0.],\n",
       "         [0., 0., 0., 0.]]])"
      ]
     },
     "execution_count": 11,
     "metadata": {},
     "output_type": "execute_result"
    }
   ],
   "source": [
    "torch.zeros((2,3,4))"
   ]
  },
  {
   "cell_type": "code",
   "execution_count": 12,
   "id": "0398e037",
   "metadata": {},
   "outputs": [
    {
     "data": {
      "text/plain": [
       "tensor([[[1., 1., 1., 1.],\n",
       "         [1., 1., 1., 1.],\n",
       "         [1., 1., 1., 1.]],\n",
       "\n",
       "        [[1., 1., 1., 1.],\n",
       "         [1., 1., 1., 1.],\n",
       "         [1., 1., 1., 1.]]])"
      ]
     },
     "execution_count": 12,
     "metadata": {},
     "output_type": "execute_result"
    }
   ],
   "source": [
    "torch.ones((2,3,4))"
   ]
  },
  {
   "cell_type": "markdown",
   "id": "4bc21fd5",
   "metadata": {},
   "source": [
    "### 通过提供<u>包含数值</u>的python列表（或嵌套列表）赋值"
   ]
  },
  {
   "cell_type": "code",
   "execution_count": 14,
   "id": "f63eb582",
   "metadata": {},
   "outputs": [
    {
     "data": {
      "text/plain": [
       "tensor([[2, 1, 4, 3],\n",
       "        [1, 2, 3, 4],\n",
       "        [4, 3, 2, 1]])"
      ]
     },
     "execution_count": 14,
     "metadata": {},
     "output_type": "execute_result"
    }
   ],
   "source": [
    "torch.tensor([[2,1,4,3],[1,2,3,4],[4,3,2,1]])#从数据中构造一个张量"
   ]
  },
  {
   "cell_type": "markdown",
   "id": "53bcc794",
   "metadata": {},
   "source": [
    "### 标准算术运算"
   ]
  },
  {
   "cell_type": "code",
   "execution_count": 15,
   "id": "d5a48d50",
   "metadata": {},
   "outputs": [
    {
     "data": {
      "text/plain": [
       "(tensor([ 3.,  4.,  6., 10.]),\n",
       " tensor([-1.,  0.,  2.,  6.]),\n",
       " tensor([ 2.,  4.,  8., 16.]),\n",
       " tensor([0.5000, 1.0000, 2.0000, 4.0000]),\n",
       " tensor([ 1.,  4., 16., 64.]))"
      ]
     },
     "execution_count": 15,
     "metadata": {},
     "output_type": "execute_result"
    }
   ],
   "source": [
    "x=torch.tensor([1.0,2,4,8])#1.0是浮点元素\n",
    "y=torch.tensor([2,2,2,2])#全为整数\n",
    "x+y,x-y,x*y,x/y,x**y#**表示幂运算"
   ]
  },
  {
   "cell_type": "markdown",
   "id": "71edbe4d",
   "metadata": {},
   "source": [
    "标准运算符均可升级为按元素运算,按元素运算要求被运算的两个矩阵或数组结构相同"
   ]
  },
  {
   "cell_type": "code",
   "execution_count": 17,
   "id": "f7c5f33e",
   "metadata": {},
   "outputs": [
    {
     "data": {
      "text/plain": [
       "tensor([2.7183e+00, 7.3891e+00, 5.4598e+01, 2.9810e+03])"
      ]
     },
     "execution_count": 17,
     "metadata": {},
     "output_type": "execute_result"
    }
   ],
   "source": [
    "torch.exp(x)"
   ]
  },
  {
   "cell_type": "markdown",
   "id": "efd9200a",
   "metadata": {},
   "source": [
    "### 将多个张量连结在一起"
   ]
  },
  {
   "cell_type": "code",
   "execution_count": 5,
   "id": "7b1994ed",
   "metadata": {},
   "outputs": [
    {
     "name": "stdout",
     "output_type": "stream",
     "text": [
      "tensor([[[ 0.,  1.,  2.,  3.],\n",
      "         [ 4.,  5.,  6.,  7.],\n",
      "         [ 8.,  9., 10., 11.]],\n",
      "\n",
      "        [[12., 13., 14., 15.],\n",
      "         [16., 17., 18., 19.],\n",
      "         [20., 21., 22., 23.]]])\n",
      "tensor([[[ 0,  1,  2,  3],\n",
      "         [ 4,  5,  6,  7],\n",
      "         [ 8,  9, 10, 11]],\n",
      "\n",
      "        [[12, 13, 14, 15],\n",
      "         [16, 17, 18, 19],\n",
      "         [20, 21, 22, 23]]], dtype=torch.int32)\n"
     ]
    },
    {
     "data": {
      "text/plain": [
       "(tensor([[[ 0.,  1.,  2.,  3.],\n",
       "          [ 4.,  5.,  6.,  7.],\n",
       "          [ 8.,  9., 10., 11.]],\n",
       " \n",
       "         [[12., 13., 14., 15.],\n",
       "          [16., 17., 18., 19.],\n",
       "          [20., 21., 22., 23.]],\n",
       " \n",
       "         [[ 0.,  1.,  2.,  3.],\n",
       "          [ 4.,  5.,  6.,  7.],\n",
       "          [ 8.,  9., 10., 11.]],\n",
       " \n",
       "         [[12., 13., 14., 15.],\n",
       "          [16., 17., 18., 19.],\n",
       "          [20., 21., 22., 23.]]]),\n",
       " tensor([[[ 0.,  1.,  2.,  3.],\n",
       "          [ 4.,  5.,  6.,  7.],\n",
       "          [ 8.,  9., 10., 11.],\n",
       "          [ 0.,  1.,  2.,  3.],\n",
       "          [ 4.,  5.,  6.,  7.],\n",
       "          [ 8.,  9., 10., 11.]],\n",
       " \n",
       "         [[12., 13., 14., 15.],\n",
       "          [16., 17., 18., 19.],\n",
       "          [20., 21., 22., 23.],\n",
       "          [12., 13., 14., 15.],\n",
       "          [16., 17., 18., 19.],\n",
       "          [20., 21., 22., 23.]]]),\n",
       " tensor([[[ 0.,  1.,  2.,  3.,  0.,  1.,  2.,  3.],\n",
       "          [ 4.,  5.,  6.,  7.,  4.,  5.,  6.,  7.],\n",
       "          [ 8.,  9., 10., 11.,  8.,  9., 10., 11.]],\n",
       " \n",
       "         [[12., 13., 14., 15., 12., 13., 14., 15.],\n",
       "          [16., 17., 18., 19., 16., 17., 18., 19.],\n",
       "          [20., 21., 22., 23., 20., 21., 22., 23.]]]))"
      ]
     },
     "execution_count": 5,
     "metadata": {},
     "output_type": "execute_result"
    }
   ],
   "source": [
    "x=torch.arange(24,dtype=torch.float32).reshape((2,3,4))#dtype指定张量数据类型,注意从右到左维度越来越高\n",
    "y=torch.arange(24,dtype=torch.int).reshape((2,3,4))\n",
    "print(x)\n",
    "print(y)\n",
    "#y=torch.tensor([[2.0,1,4,3],[1,2,3,4],[4,3,2,1]])#怎么用tensor构建多维张量？\n",
    "torch.cat((x,y),dim=0),torch.cat((x,y),dim=1),torch.cat((x,y),dim=2)#dim=0,按行合并，即合并单元是行；dim=1是按列合并.dim的数值x对应shape中第x维。"
   ]
  },
  {
   "cell_type": "markdown",
   "id": "1af63fad",
   "metadata": {},
   "source": [
    "### 按逻辑运算构建张量"
   ]
  },
  {
   "cell_type": "code",
   "execution_count": 30,
   "id": "914191e8",
   "metadata": {},
   "outputs": [
    {
     "data": {
      "text/plain": [
       "tensor([[[True, True, True, True],\n",
       "         [True, True, True, True],\n",
       "         [True, True, True, True]],\n",
       "\n",
       "        [[True, True, True, True],\n",
       "         [True, True, True, True],\n",
       "         [True, True, True, True]]])"
      ]
     },
     "execution_count": 30,
     "metadata": {},
     "output_type": "execute_result"
    }
   ],
   "source": [
    "#此时元素为布尔值\n",
    "x==y"
   ]
  },
  {
   "cell_type": "markdown",
   "id": "602551b2",
   "metadata": {},
   "source": [
    "### 对张量中所有元素求和会得到只有一个元素的张量"
   ]
  },
  {
   "cell_type": "code",
   "execution_count": 32,
   "id": "68f21199",
   "metadata": {},
   "outputs": [
    {
     "data": {
      "text/plain": [
       "tensor(276.)"
      ]
     },
     "execution_count": 32,
     "metadata": {},
     "output_type": "execute_result"
    }
   ],
   "source": [
    "x.sum()"
   ]
  },
  {
   "cell_type": "markdown",
   "id": "80c29184",
   "metadata": {},
   "source": [
    "### 广播机制（broadcasting mechanism）"
   ]
  },
  {
   "cell_type": "markdown",
   "id": "1cef594e",
   "metadata": {},
   "source": [
    "它允许在执行数组运算时自动扩展数组的形状，使得不同形状的数组可以进行数学运算。"
   ]
  },
  {
   "cell_type": "markdown",
   "id": "6a59eafb",
   "metadata": {},
   "source": [
    "广播机制允许在不复制数据的情况下，将较小的数组“广播”到较大数组的大小，以便它们具有兼容的形状。要使两个张量或数组可广播，必须满足以下条件\n",
    "\n",
    "* 每个张量至少有一个维度。\n",
    "\n",
    "* 从尾部维度开始遍历时，两个张量的每个维度必须相等，或其中一个维度为1，或其中一个维度不存在。\n",
    "\n",
    "如果两个张量是“可广播的”，则广播过程遵循以下步骤：\n",
    "\n",
    "* 如果两个张量的维度数不同，较小维度的张量会在前面增加维度，直到两者维度数相等。\n",
    "\n",
    "* 对于每个维度，如果一个张量的维度为1，则该维度会被扩展以匹配另一个张量的相应维度。扩展方式是复制"
   ]
  },
  {
   "cell_type": "markdown",
   "id": "bbc986c6",
   "metadata": {},
   "source": [
    "**弊端：会忽略张量维度问题的报错**"
   ]
  },
  {
   "cell_type": "code",
   "execution_count": 34,
   "id": "132aae81",
   "metadata": {},
   "outputs": [
    {
     "data": {
      "text/plain": [
       "(tensor([[0],\n",
       "         [1],\n",
       "         [2]]),\n",
       " tensor([[0, 1]]))"
      ]
     },
     "execution_count": 34,
     "metadata": {},
     "output_type": "execute_result"
    }
   ],
   "source": [
    "a=torch.arange(3).reshape((3,1))\n",
    "b=torch.arange(2).reshape((1,2))\n",
    "a,b"
   ]
  },
  {
   "cell_type": "code",
   "execution_count": 35,
   "id": "5d924e25",
   "metadata": {},
   "outputs": [
    {
     "data": {
      "text/plain": [
       "tensor([[0, 1],\n",
       "        [1, 2],\n",
       "        [2, 3]])"
      ]
     },
     "execution_count": 35,
     "metadata": {},
     "output_type": "execute_result"
    }
   ],
   "source": [
    "a+b"
   ]
  },
  {
   "cell_type": "markdown",
   "id": "a53273e6",
   "metadata": {},
   "source": [
    "### 元素访问"
   ]
  },
  {
   "cell_type": "code",
   "execution_count": 40,
   "id": "52a42563",
   "metadata": {},
   "outputs": [
    {
     "data": {
      "text/plain": [
       "(tensor([[12., 13., 14., 15.],\n",
       "         [16., 17., 18., 19.],\n",
       "         [20., 21., 22., 23.]]),\n",
       " tensor([[[12., 13., 14., 15.],\n",
       "          [16., 17., 18., 19.],\n",
       "          [20., 21., 22., 23.]]]))"
      ]
     },
     "execution_count": 40,
     "metadata": {},
     "output_type": "execute_result"
    }
   ],
   "source": [
    "#最后一个元素\n",
    "x[-1],x[1:3]\n",
    "#第2和3个元素\n"
   ]
  },
  {
   "cell_type": "markdown",
   "id": "21585892",
   "metadata": {},
   "source": [
    "### 元素写入"
   ]
  },
  {
   "cell_type": "code",
   "execution_count": 42,
   "id": "87d71b13",
   "metadata": {},
   "outputs": [
    {
     "data": {
      "text/plain": [
       "tensor([[[ 0.,  1.,  2.,  3.],\n",
       "         [ 4.,  5.,  6.,  7.],\n",
       "         [ 8.,  9., 10., 11.]],\n",
       "\n",
       "        [[12., 13., 14., 15.],\n",
       "         [16., 17.,  9., 19.],\n",
       "         [20., 21., 22., 23.]]])"
      ]
     },
     "execution_count": 42,
     "metadata": {},
     "output_type": "execute_result"
    }
   ],
   "source": [
    "#使用索引给特定元素赋值\n",
    "x[1,1,2]=9\n",
    "x"
   ]
  },
  {
   "cell_type": "code",
   "execution_count": 43,
   "id": "b2f8e743",
   "metadata": {},
   "outputs": [
    {
     "data": {
      "text/plain": [
       "tensor([[[12., 12., 12., 12.],\n",
       "         [12., 12., 12., 12.],\n",
       "         [ 8.,  9., 10., 11.]],\n",
       "\n",
       "        [[12., 13., 14., 15.],\n",
       "         [16., 17.,  9., 19.],\n",
       "         [20., 21., 22., 23.]]])"
      ]
     },
     "execution_count": 43,
     "metadata": {},
     "output_type": "execute_result"
    }
   ],
   "source": [
    "#为多个元素赋相同值\n",
    "x[0,0:2,:]=12\n",
    "x"
   ]
  },
  {
   "cell_type": "markdown",
   "id": "d2a2179e",
   "metadata": {},
   "source": [
    "### 原地操作避免新结果分配内存(针对大的张量）"
   ]
  },
  {
   "cell_type": "code",
   "execution_count": 44,
   "id": "c898857f",
   "metadata": {},
   "outputs": [
    {
     "data": {
      "text/plain": [
       "False"
      ]
     },
     "execution_count": 44,
     "metadata": {},
     "output_type": "execute_result"
    }
   ],
   "source": [
    "#反例\n",
    "before=id(y)\n",
    "y=y+x\n",
    "id(y)==before"
   ]
  },
  {
   "cell_type": "code",
   "execution_count": 45,
   "id": "86b316d0",
   "metadata": {},
   "outputs": [
    {
     "name": "stdout",
     "output_type": "stream",
     "text": [
      "id(z): 2085924231272\n",
      "id(z): 2085924231272\n"
     ]
    },
    {
     "data": {
      "text/plain": [
       "True"
      ]
     },
     "execution_count": 45,
     "metadata": {},
     "output_type": "execute_result"
    }
   ],
   "source": [
    "#原地操作\n",
    "z=torch.zeros_like(y)#z的shape以及dtype与y相同，但value=0\n",
    "print('id(z):',id(z))\n",
    "z[:]=x+y#本质是对z赋值\n",
    "print('id(z):',id(z))\n",
    "#另，当后续不会再使用旧的x时，也可以对x赋值来减少内存开销\n",
    "before=id(x)\n",
    "x+=y#or x[:]=x+y\n",
    "id(x)==before"
   ]
  },
  {
   "cell_type": "markdown",
   "id": "c23e2afa",
   "metadata": {},
   "source": [
    "### 转换为numpy张量以及回转"
   ]
  },
  {
   "cell_type": "code",
   "execution_count": 47,
   "id": "3d7f1030",
   "metadata": {},
   "outputs": [
    {
     "data": {
      "text/plain": [
       "(numpy.ndarray, torch.Tensor)"
      ]
     },
     "execution_count": 47,
     "metadata": {},
     "output_type": "execute_result"
    }
   ],
   "source": [
    "A=x.numpy()\n",
    "B=torch.tensor(A)\n",
    "type(A),type(B)"
   ]
  },
  {
   "cell_type": "code",
   "execution_count": 49,
   "id": "347f0775",
   "metadata": {},
   "outputs": [
    {
     "data": {
      "text/plain": [
       "(tensor([3.5000]), 3.5, 3.5, 3)"
      ]
     },
     "execution_count": 49,
     "metadata": {},
     "output_type": "execute_result"
    }
   ],
   "source": [
    "#将size=1的张量转换为标量\n",
    "a=torch.tensor([3.5])\n",
    "a,a.item(),float(a),int(a)"
   ]
  },
  {
   "cell_type": "markdown",
   "id": "60df1b44",
   "metadata": {},
   "source": [
    "## 数据预处理"
   ]
  },
  {
   "cell_type": "code",
   "execution_count": 8,
   "id": "70297bca",
   "metadata": {},
   "outputs": [],
   "source": [
    "#创建人工数据集\n",
    "import os#导入 os 模块，以便在代码中使用与操作系统交互的功能\n",
    "\n",
    "os.makedirs(os.path.join('..','data'),exist_ok=True)#创建一个名为 data 的文件夹。这个文件夹的路径是相对路径 ..（表示上一级目录）和 data 组合而成。参数 exist_ok=True 表示如果目录已经存在，不会引发错误\n",
    "data_file=os.path.join('..','data','house_tiny.csv')#创建一个变量 data_file，其值是组合了上一级目录和 data 文件夹下的文件名 house_tiny.csv 的完整路径\n",
    "with open(data_file,'w') as f:#使用 with 语句可以确保在代码块结束后自动关闭文件。\n",
    "    f.write('NumRooms,Alley,Price\\n')#colname\n",
    "    f.write('NA,Pave,127500\\n')#each line one sample\n",
    "    f.write('2,NA,106000\\n')\n",
    "    f.write('4,NA,178100\\n')\n",
    "    f.write('NA,NA,140000\\n')"
   ]
  },
  {
   "cell_type": "markdown",
   "id": "a20843fd",
   "metadata": {},
   "source": [
    "### 加载数据集"
   ]
  },
  {
   "cell_type": "code",
   "execution_count": 6,
   "id": "1dbfc70b",
   "metadata": {},
   "outputs": [
    {
     "name": "stdout",
     "output_type": "stream",
     "text": [
      "Collecting pandasNote: you may need to restart the kernel to use updated packages.\n",
      "\n",
      "  Downloading pandas-1.1.5-cp37-cp37m-win_amd64.whl.metadata (4.7 kB)\n",
      "Requirement already satisfied: python-dateutil>=2.7.3 in d:\\anaconda\\envs\\pytorch\\lib\\site-packages (from pandas) (2.9.0)\n",
      "Collecting pytz>=2017.2 (from pandas)\n",
      "  Downloading pytz-2024.2-py2.py3-none-any.whl.metadata (22 kB)\n",
      "Requirement already satisfied: numpy>=1.15.4 in d:\\anaconda\\envs\\pytorch\\lib\\site-packages (from pandas) (1.21.6)\n",
      "Requirement already satisfied: six>=1.5 in d:\\anaconda\\envs\\pytorch\\lib\\site-packages (from python-dateutil>=2.7.3->pandas) (1.16.0)\n",
      "Downloading pandas-1.1.5-cp37-cp37m-win_amd64.whl (8.7 MB)\n",
      "   ---------------------------------------- 8.7/8.7 MB 60.7 kB/s eta 0:00:00\n",
      "Downloading pytz-2024.2-py2.py3-none-any.whl (508 kB)\n",
      "   --------------------------------------- 508.0/508.0 kB 57.6 kB/s eta 0:00:00\n",
      "Installing collected packages: pytz, pandas\n",
      "Successfully installed pandas-1.1.5 pytz-2024.2\n"
     ]
    }
   ],
   "source": [
    "#pip install pandas"
   ]
  },
  {
   "cell_type": "code",
   "execution_count": 9,
   "id": "277f44de",
   "metadata": {},
   "outputs": [
    {
     "name": "stdout",
     "output_type": "stream",
     "text": [
      "   NumRooms Alley   Price\n",
      "0       NaN  Pave  127500\n",
      "1       2.0   NaN  106000\n",
      "2       4.0   NaN  178100\n",
      "3       NaN   NaN  140000\n"
     ]
    }
   ],
   "source": [
    "import pandas as pd\n",
    "\n",
    "data=pd.read_csv(data_file)\n",
    "print(data)#直接data更好看"
   ]
  },
  {
   "cell_type": "markdown",
   "id": "ec0e48d3",
   "metadata": {},
   "source": [
    "### 处理缺失值"
   ]
  },
  {
   "cell_type": "code",
   "execution_count": 10,
   "id": "e5a7e4a0",
   "metadata": {},
   "outputs": [
    {
     "name": "stdout",
     "output_type": "stream",
     "text": [
      "   NumRooms Alley\n",
      "0       3.0  Pave\n",
      "1       2.0   NaN\n",
      "2       4.0   NaN\n",
      "3       3.0   NaN\n",
      "   NumRooms  Alley_Pave  Alley_nan\n",
      "0       3.0           1          0\n",
      "1       2.0           0          1\n",
      "2       4.0           0          1\n",
      "3       3.0           0          1\n"
     ]
    },
    {
     "data": {
      "text/plain": [
       "(tensor([[3., 1., 0.],\n",
       "         [2., 0., 1.],\n",
       "         [4., 0., 1.],\n",
       "         [3., 0., 1.]], dtype=torch.float64),\n",
       " tensor([127500, 106000, 178100, 140000]))"
      ]
     },
     "execution_count": 10,
     "metadata": {},
     "output_type": "execute_result"
    }
   ],
   "source": [
    "#插值\n",
    "inputs,outputs=data.iloc[:,0:2],data.iloc[:,2]#取data的前两列，这些列通常代表输入特征；最后一列作为输出特征\n",
    "inputs=inputs.fillna(inputs.mean())#设置na为非空值的均值，注意string类型下无效\n",
    "print(inputs)\n",
    "#对于inputs中的类别值或离散值，将NA视为一个类别\n",
    "inputs=pd.get_dummies(inputs,dummy_na=True)\n",
    "print(inputs)\n",
    "#inputs和outputs中所有条目均为数值类型，转化为张量\n",
    "import torch\n",
    "x,y=torch.tensor(inputs.values),torch.tensor(outputs.values)\n",
    "x,y"
   ]
  },
  {
   "cell_type": "markdown",
   "id": "b6c79614",
   "metadata": {},
   "source": [
    "**离散值：**数值类型，通常为int。分为间隔（如温度）和比率（如速度）\n",
    "\n",
    "**类别值：**字符串类型，分为有序和无序"
   ]
  }
 ],
 "metadata": {
  "kernelspec": {
   "display_name": "Python [conda env:pytorch]",
   "language": "python",
   "name": "conda-env-pytorch-py"
  },
  "language_info": {
   "codemirror_mode": {
    "name": "ipython",
    "version": 3
   },
   "file_extension": ".py",
   "mimetype": "text/x-python",
   "name": "python",
   "nbconvert_exporter": "python",
   "pygments_lexer": "ipython3",
   "version": "3.7.0"
  }
 },
 "nbformat": 4,
 "nbformat_minor": 5
}
